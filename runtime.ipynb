{
 "cells": [
  {
   "cell_type": "markdown",
   "metadata": {},
   "source": [
    "# Runtime Analysis"
   ]
  },
  {
   "cell_type": "markdown",
   "metadata": {},
   "source": [
    "## Setup"
   ]
  },
  {
   "cell_type": "code",
   "execution_count": 1,
   "metadata": {},
   "outputs": [],
   "source": [
    "import timeit\n",
    "\n",
    "import pandas as pd\n",
    "\n",
    "from generators.lecuyer import Lecuyer\n",
    "from generators.mersenne_twister import MersenneTwister\n",
    "from generators.tausworthe import Tausworthe\n",
    "\n",
    "seed = 0xdeadbeef\n",
    "\n",
    "# Init generators\n",
    "lecuyer = Lecuyer(seed)\n",
    "mersenne = MersenneTwister(seed)\n",
    "tausworthe = Tausworthe(r=8, q=15, l=32, seed=seed)"
   ]
  },
  {
   "cell_type": "markdown",
   "metadata": {},
   "source": [
    "## Timing Repetitions"
   ]
  },
  {
   "cell_type": "code",
   "execution_count": 2,
   "metadata": {},
   "outputs": [],
   "source": [
    "def time_generator(gen_func, N, M):\n",
    "  trials = timeit.repeat(stmt='gen_func()', number=N, repeat=M, globals={'gen_func': gen_func})\n",
    "  min_trial = min(trials)\n",
    "  return min_trial * 1000, min_trial * 1000 / N"
   ]
  },
  {
   "cell_type": "code",
   "execution_count": 3,
   "metadata": {},
   "outputs": [],
   "source": [
    "N = 10000\n",
    "M = 5\n",
    "\n",
    "time_lecuyer = time_generator(lecuyer.next, N, M)\n",
    "time_mersenne = time_generator(mersenne.next, N, M)\n",
    "time_tausworthe = time_generator(tausworthe.next, N, M)\n"
   ]
  },
  {
   "cell_type": "code",
   "execution_count": 4,
   "metadata": {},
   "outputs": [
    {
     "data": {
      "text/html": [
       "<div>\n",
       "<style scoped>\n",
       "    .dataframe tbody tr th:only-of-type {\n",
       "        vertical-align: middle;\n",
       "    }\n",
       "\n",
       "    .dataframe tbody tr th {\n",
       "        vertical-align: top;\n",
       "    }\n",
       "\n",
       "    .dataframe thead th {\n",
       "        text-align: right;\n",
       "    }\n",
       "</style>\n",
       "<table border=\"1\" class=\"dataframe\">\n",
       "  <thead>\n",
       "    <tr style=\"text-align: right;\">\n",
       "      <th></th>\n",
       "      <th>RNG</th>\n",
       "      <th>Total Time (ms)</th>\n",
       "      <th>Avg Time (ms)</th>\n",
       "    </tr>\n",
       "  </thead>\n",
       "  <tbody>\n",
       "    <tr>\n",
       "      <th>0</th>\n",
       "      <td>L'Ecuyer</td>\n",
       "      <td>9.9994</td>\n",
       "      <td>0.001000</td>\n",
       "    </tr>\n",
       "    <tr>\n",
       "      <th>1</th>\n",
       "      <td>Mersenne Twister</td>\n",
       "      <td>13.7449</td>\n",
       "      <td>0.001374</td>\n",
       "    </tr>\n",
       "    <tr>\n",
       "      <th>2</th>\n",
       "      <td>Tausworthe</td>\n",
       "      <td>125.4801</td>\n",
       "      <td>0.012548</td>\n",
       "    </tr>\n",
       "  </tbody>\n",
       "</table>\n",
       "</div>"
      ],
      "text/plain": [
       "                RNG  Total Time (ms)  Avg Time (ms)\n",
       "0          L'Ecuyer           9.9994       0.001000\n",
       "1  Mersenne Twister          13.7449       0.001374\n",
       "2        Tausworthe         125.4801       0.012548"
      ]
     },
     "execution_count": 4,
     "metadata": {},
     "output_type": "execute_result"
    }
   ],
   "source": [
    "pd.DataFrame([\n",
    "  ('L\\'Ecuyer', *time_lecuyer),\n",
    "  ('Mersenne Twister', *time_mersenne),\n",
    "  ('Tausworthe', *time_tausworthe)],\n",
    "  columns=['RNG', 'Total Time (ms)', 'Avg Time (ms)'])"
   ]
  }
 ],
 "metadata": {
  "kernelspec": {
   "display_name": ".venv",
   "language": "python",
   "name": "python3"
  },
  "language_info": {
   "codemirror_mode": {
    "name": "ipython",
    "version": 3
   },
   "file_extension": ".py",
   "mimetype": "text/x-python",
   "name": "python",
   "nbconvert_exporter": "python",
   "pygments_lexer": "ipython3",
   "version": "3.11.3"
  }
 },
 "nbformat": 4,
 "nbformat_minor": 2
}
